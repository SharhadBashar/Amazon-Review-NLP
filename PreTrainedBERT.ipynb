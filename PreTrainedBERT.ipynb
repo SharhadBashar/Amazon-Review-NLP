{
 "cells": [
  {
   "cell_type": "code",
   "execution_count": 1,
   "id": "7d2b7ca7",
   "metadata": {},
   "outputs": [],
   "source": [
    "from transformers import AutoTokenizer, AutoModelForSequenceClassification, BertModel, BertTokenizer\n",
    "import torch\n",
    "import requests\n",
    "from bs4 import BeautifulSoup\n",
    "import re\n",
    "\n",
    "import numpy as np\n",
    "import pandas as pd"
   ]
  },
  {
   "cell_type": "code",
   "execution_count": 2,
   "id": "4afb0d50",
   "metadata": {},
   "outputs": [],
   "source": [
    "class PreTrainedBERT:\n",
    "    def __init__(self, site = 'nlptown/bert-base-multilingual-uncased-sentiment'):\n",
    "        self.tokenizer = AutoTokenizer.from_pretrained(site)\n",
    "        self.model = AutoModelForSequenceClassification.from_pretrained(site)\n",
    "    \n",
    "    def get_rating(self, review):\n",
    "        result = self.model(self.tokenizer.encode(review, return_tensors = 'pt'))\n",
    "        return int(torch.argmax(result.logits)) + 1"
   ]
  },
  {
   "cell_type": "code",
   "execution_count": 10,
   "id": "379fbd83",
   "metadata": {},
   "outputs": [],
   "source": [
    "class Data:\n",
    "    def __init__(self):       \n",
    "        self.use_cols = ['star_rating', 'review_body']\n",
    "    \n",
    "    def read_data(self):\n",
    "        use_cols = self.use_cols\n",
    "        self.sample = pd.read_table('dataset/sample_us.tsv', usecols = use_cols, low_memory = False)\n",
    "#         self.jewelry = pd.read_table('dataset/amazon_reviews_us_Jewelry_v1_00.tsv', usecols = use_cols, low_memory = False)\n",
    "#         self.book = pd.read_table('dataset/amazon_reviews_us_Books_v1_02.tsv', usecols = use_cols, low_memory = False)\n",
    "#         self.kitchen = pd.read_table('dataset/amazon_reviews_us_Kitchen_v1_00.tsv', usecols = use_cols, low_memory = False)\n",
    "#         self.lawn = pd.read_table('dataset/amazon_reviews_us_Lawn_and_Garden_v1_00.tsv', usecols = use_cols, low_memory = False)\n",
    "#         self.pet = pd.read_table('dataset/amazon_reviews_us_Pet_Products_v1_00.tsv', usecols = use_cols, low_memory = False)\n",
    "#         self.wireless = pd.read_table('dataset/amazon_reviews_us_Wireless_v1_00.tsv', usecols = use_cols, low_memory = False)\n",
    "\n",
    "    def get_data(self): \n",
    "        self.read_data()\n",
    "#         frames = [self.jewelry, self.book, self.kitchen, self.lawn, self.pet, self.wireless]\n",
    "        frames = [self.sample]\n",
    "        reviews = pd.concat(frames)\n",
    "        return reviews"
   ]
  },
  {
   "cell_type": "code",
   "execution_count": 23,
   "id": "92f4d48e",
   "metadata": {},
   "outputs": [],
   "source": [
    "def ratings():\n",
    "    predictor = PreTrainedBERT()\n",
    "    reviews = Data().get_data()\n",
    "    for i in range(len(reviews)):\n",
    "        rating = predictor.get_rating(reviews.iloc[i]['review_body'])\n",
    "        actual_rating = reviews.iloc[i]['star_rating']\n",
    "        print('Actual:', actual_rating, 'Predicted:', rating, 'Differnece:', abs(actual_rating - rating))"
   ]
  },
  {
   "cell_type": "code",
   "execution_count": 24,
   "id": "a8d3f415",
   "metadata": {},
   "outputs": [
    {
     "name": "stdout",
     "output_type": "stream",
     "text": [
      "Actual: 5 Predicted: 5 Differnece: 0\n",
      "Actual: 5 Predicted: 5 Differnece: 0\n",
      "Actual: 2 Predicted: 3 Differnece: 1\n",
      "Actual: 5 Predicted: 5 Differnece: 0\n",
      "Actual: 1 Predicted: 1 Differnece: 0\n",
      "Actual: 5 Predicted: 5 Differnece: 0\n",
      "Actual: 3 Predicted: 4 Differnece: 1\n",
      "Actual: 5 Predicted: 4 Differnece: 1\n",
      "Actual: 5 Predicted: 4 Differnece: 1\n",
      "Actual: 1 Predicted: 1 Differnece: 0\n",
      "Actual: 5 Predicted: 4 Differnece: 1\n",
      "Actual: 5 Predicted: 5 Differnece: 0\n",
      "Actual: 5 Predicted: 5 Differnece: 0\n",
      "Actual: 4 Predicted: 5 Differnece: 1\n",
      "Actual: 3 Predicted: 1 Differnece: 2\n",
      "Actual: 5 Predicted: 5 Differnece: 0\n",
      "Actual: 5 Predicted: 4 Differnece: 1\n",
      "Actual: 5 Predicted: 5 Differnece: 0\n",
      "Actual: 3 Predicted: 1 Differnece: 2\n",
      "Actual: 1 Predicted: 3 Differnece: 2\n",
      "Actual: 5 Predicted: 5 Differnece: 0\n",
      "Actual: 4 Predicted: 3 Differnece: 1\n",
      "Actual: 5 Predicted: 5 Differnece: 0\n",
      "Actual: 4 Predicted: 3 Differnece: 1\n",
      "Actual: 3 Predicted: 2 Differnece: 1\n",
      "Actual: 5 Predicted: 5 Differnece: 0\n",
      "Actual: 5 Predicted: 5 Differnece: 0\n",
      "Actual: 5 Predicted: 5 Differnece: 0\n",
      "Actual: 5 Predicted: 4 Differnece: 1\n",
      "Actual: 2 Predicted: 3 Differnece: 1\n",
      "Actual: 1 Predicted: 1 Differnece: 0\n",
      "Actual: 5 Predicted: 5 Differnece: 0\n",
      "Actual: 3 Predicted: 3 Differnece: 0\n",
      "Actual: 5 Predicted: 4 Differnece: 1\n",
      "Actual: 5 Predicted: 5 Differnece: 0\n",
      "Actual: 5 Predicted: 4 Differnece: 1\n",
      "Actual: 5 Predicted: 5 Differnece: 0\n",
      "Actual: 5 Predicted: 5 Differnece: 0\n",
      "Actual: 5 Predicted: 5 Differnece: 0\n",
      "Actual: 5 Predicted: 5 Differnece: 0\n",
      "Actual: 1 Predicted: 1 Differnece: 0\n",
      "Actual: 4 Predicted: 5 Differnece: 1\n",
      "Actual: 5 Predicted: 5 Differnece: 0\n",
      "Actual: 5 Predicted: 5 Differnece: 0\n",
      "Actual: 5 Predicted: 5 Differnece: 0\n",
      "Actual: 5 Predicted: 5 Differnece: 0\n",
      "Actual: 5 Predicted: 5 Differnece: 0\n",
      "Actual: 5 Predicted: 5 Differnece: 0\n",
      "Actual: 5 Predicted: 5 Differnece: 0\n"
     ]
    }
   ],
   "source": [
    "ratings()"
   ]
  }
 ],
 "metadata": {
  "kernelspec": {
   "display_name": "Python 3",
   "language": "python",
   "name": "python3"
  },
  "language_info": {
   "codemirror_mode": {
    "name": "ipython",
    "version": 3
   },
   "file_extension": ".py",
   "mimetype": "text/x-python",
   "name": "python",
   "nbconvert_exporter": "python",
   "pygments_lexer": "ipython3",
   "version": "3.8.8"
  }
 },
 "nbformat": 4,
 "nbformat_minor": 5
}
